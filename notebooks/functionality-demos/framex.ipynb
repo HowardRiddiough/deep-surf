{
 "cells": [
  {
   "cell_type": "markdown",
   "metadata": {},
   "source": [
    "## Downloading webcam images from [scheveningenlive.nl](http://www.scheveningenlive.nl/)\n",
    "\n",
    "- authour: Howard Riddiough\n",
    "- date created: February 8th, 2019\n",
    "- modified by:\n",
    "- date modified:\n",
    "\n",
    "This notebook demonstrates the functionality of `SurfFrames`, a handy way to collect surf webcam data that \n",
    "can be used to train Deep Learning Models. This notebook covers:\n",
    "\n",
    "- Downloading webcam images\n",
    "- Interval between requests\n",
    "- Muting Logging"
   ]
  },
  {
   "cell_type": "code",
   "execution_count": null,
   "metadata": {},
   "outputs": [],
   "source": [
    "from deepsurf.framex import SurfFrames\n",
    "\n",
    "%load_ext autoreload\n",
    "%autoreload 2"
   ]
  },
  {
   "cell_type": "markdown",
   "metadata": {},
   "source": [
    "To download frames with logging set `logging_level` to \"loud\", to mute logging use \"silent\".\n",
    "\n",
    "`interval` can be used to increase/decrease the interval between frame requests"
   ]
  },
  {
   "cell_type": "code",
   "execution_count": null,
   "metadata": {},
   "outputs": [],
   "source": [
    "sf = SurfFrames(interval=60, out_path=\"./\", logging_level=\"loud\")"
   ]
  },
  {
   "cell_type": "markdown",
   "metadata": {},
   "source": [
    "Download frames using the `get_frames` method"
   ]
  },
  {
   "cell_type": "code",
   "execution_count": null,
   "metadata": {},
   "outputs": [],
   "source": [
    "sf.get_frames()"
   ]
  }
 ],
 "metadata": {
  "kernelspec": {
   "display_name": "Python 3",
   "language": "python",
   "name": "python3"
  },
  "language_info": {
   "codemirror_mode": {
    "name": "ipython",
    "version": 3
   },
   "file_extension": ".py",
   "mimetype": "text/x-python",
   "name": "python",
   "nbconvert_exporter": "python",
   "pygments_lexer": "ipython3",
   "version": "3.7.0"
  }
 },
 "nbformat": 4,
 "nbformat_minor": 2
}
